{
 "cells": [
  {
   "cell_type": "markdown",
   "metadata": {},
   "source": [
    "## According to the instruction the below is need to install the dataset and run the import check"
   ]
  },
  {
   "cell_type": "code",
   "execution_count": null,
   "metadata": {
    "scrolled": true
   },
   "outputs": [],
   "source": [
    "!pip3 install -U ucimlrepo"
   ]
  },
  {
   "cell_type": "markdown",
   "metadata": {},
   "source": [
    "## Import dependencies"
   ]
  },
  {
   "cell_type": "code",
   "execution_count": null,
   "metadata": {},
   "outputs": [],
   "source": [
    "import matplotlib.pyplot as plt\n",
    "import pandas as pd\n",
    "import seaborn as sns"
   ]
  },
  {
   "cell_type": "code",
   "execution_count": null,
   "metadata": {},
   "outputs": [],
   "source": [
    "from ucimlrepo import fetch_ucirepo \n",
    "  \n",
    "# fetch dataset \n",
    "wine_quality = fetch_ucirepo(id=186) \n",
    "  \n",
    "# data (as pandas dataframes) \n",
    "X = wine_quality.data.features \n",
    "y = wine_quality.data.targets \n",
    "  \n",
    "# metadata \n",
    "print(wine_quality.metadata) \n",
    "  \n",
    "# variable information \n",
    "print(wine_quality.variables) "
   ]
  },
  {
   "cell_type": "markdown",
   "metadata": {},
   "source": [
    "This was a continued error due to the dataset not being simple. The two X, y axis caused several errors.  Gen AI was used to fix this error"
   ]
  },
  {
   "cell_type": "code",
   "execution_count": null,
   "metadata": {},
   "outputs": [],
   "source": [
    "# Assuming X and y are pandas DataFrames or compatible formats\n",
    "# Concatenate X and y to form a single DataFrame\n",
    "# axis=1 indicates you want to concatenate columns (side by side)\n",
    "# You might want to ensure that X and y have the same number of rows\n",
    "df = pd.concat([X, y], axis=1)\n",
    "\n",
    "# Now, df is your complete DataFrame containing both features and targets\n",
    "# Print all column names in the DataFrame\n",
    "print(df.columns)\n",
    "print(df.head(10))\n",
    "print(df.shape)\n",
    "print(df.dtypes)\n",
    "print(df.describe())\n"
   ]
  },
  {
   "cell_type": "code",
   "execution_count": null,
   "metadata": {},
   "outputs": [],
   "source": [
    "# Display a concise summary of the DataFrame, including the data types\n",
    "df.info()"
   ]
  },
  {
   "cell_type": "code",
   "execution_count": null,
   "metadata": {
    "scrolled": true
   },
   "outputs": [],
   "source": [
    "# Inspect histogram by numerical column\n",
    "df['citric_acid'].hist()\n",
    "\n",
    "# Inspect histograms for all numerical columns\n",
    "df.hist()\n",
    "\n",
    "# Show all plots\n",
    "plt.show()"
   ]
  },
  {
   "cell_type": "code",
   "execution_count": null,
   "metadata": {},
   "outputs": [],
   "source": [
    "# Inspect value counts by categorical column\n",
    "# this dateset has no catagorical columns, despite 'color' being annotated when imported.\n",
    "# think of a way to build a catagorical scale (quality = 5 point scale)"
   ]
  },
  {
   "cell_type": "code",
   "execution_count": null,
   "metadata": {},
   "outputs": [],
   "source": [
    "# Rename a column from 'old_name' to 'new_name'\n",
    "df = df.rename(columns={'alcohol': 'new_name_alcohol'})\n",
    "\n",
    "# Display a concise summary of the DataFrame, including the data types\n",
    "df.info()"
   ]
  },
  {
   "cell_type": "code",
   "execution_count": null,
   "metadata": {},
   "outputs": [],
   "source": [
    "# Add a new column 'sum_column' that is the sum of 'col1' and 'col2'\n",
    "df['sum_column'] = df['new_name_alcohol'] + df['quality']\n",
    "\n",
    "# Display a concise summary of the DataFrame, including the data types\n",
    "df.info()"
   ]
  },
  {
   "cell_type": "code",
   "execution_count": null,
   "metadata": {},
   "outputs": [],
   "source": [
    "# Function to map quality to a 5-point Likert scale\n",
    "def quality_to_quality_scale(quality):\n",
    "    if quality <= 2:\n",
    "        return '1 - Very Low'\n",
    "    elif quality <= 4:\n",
    "        return '2 - Low'\n",
    "    elif quality <= 6:\n",
    "        return '3 - Medium'\n",
    "    elif quality <= 8:\n",
    "        return '4 - High'\n",
    "    else:\n",
    "        return '5 - Very High'\n",
    "\n",
    "# Assuming 'df' is your DataFrame and 'quality' is the column you want to convert\n",
    "# Create a new column 'quality_scale' by applying the function to the 'quality' column\n",
    "df['quality_scale'] = df['quality'].apply(quality_to_quality_scale)\n",
    "\n",
    "# Display the first few rows to verify the transformation\n",
    "print(df[['quality', 'quality_scale']].head())\n"
   ]
  },
  {
   "cell_type": "code",
   "execution_count": null,
   "metadata": {},
   "outputs": [],
   "source": [
    "# Display a concise summary of the DataFrame, including the data types\n",
    "df.info()"
   ]
  },
  {
   "cell_type": "code",
   "execution_count": null,
   "metadata": {},
   "outputs": [],
   "source": [
    "# Inspect value counts by categorical column\n",
    "df['quality_scale'].value_counts()\n",
    "\n",
    "# Inspect value counts for all categorical columns\n",
    "for col in df.select_dtypes(include=['object', 'category']).columns:\n",
    "    # Display count plot\n",
    "    sns.countplot(x=col, data=df)\n",
    "    plt.title(f'Distribution of {col}')\n",
    "    plt.show()\n",
    "\n",
    "# Show all plots\n",
    "plt.show()"
   ]
  },
  {
   "cell_type": "markdown",
   "metadata": {},
   "source": [
    "### Subsection 1: Distribution of Wine Quality\r\n",
    "Goal:    \r\n",
    "To explore the distribution of wine quality scores across the dataset\r\n",
    "\r\n",
    "Chart Ty    pe:\r\n",
    "Histogram"
   ]
  },
  {
   "cell_type": "code",
   "execution_count": null,
   "metadata": {},
   "outputs": [],
   "source": [
    "sns.histplot(data=df, x='quality', bins=10, kde=True)\n",
    "plt.title('Distribution of Wine Quality Scores')\n",
    "plt.xlabel('Quality Score')\n",
    "plt.ylabel('Frequency')\n",
    "plt.show()"
   ]
  },
  {
   "cell_type": "markdown",
   "metadata": {},
   "source": [
    "### Subsection 2: Relationship Between Alcohol Content and Wine Quality\n",
    "\n",
    "Goal:    \r\n",
    "To investigate if there's a relationship between the alcohol content of the wine and its quality score\r\n",
    "\r\n",
    "Chart Ty    pe:\r\n",
    "Scatter Plot"
   ]
  },
  {
   "cell_type": "code",
   "execution_count": null,
   "metadata": {},
   "outputs": [],
   "source": [
    "sns.scatterplot(data=df, x='new_name_alcohol', y='quality', alpha=0.5)\n",
    "plt.title('Alcohol Content vs. Wine Quality')\n",
    "plt.xlabel('Alcohol Content (%)')\n",
    "plt.ylabel('Quality Score')\n",
    "plt.show()"
   ]
  },
  {
   "cell_type": "markdown",
   "metadata": {},
   "source": [
    "### Subsection 3: Average Sulphates Content Across Different Quality Categories\r\n",
    "Goal:    \r\n",
    "To compare the average sulphates content across wines of different quality categories defined by the Likert scale\r\n",
    "\r\n",
    "Chart Ty    pe:\r\n",
    "Bar Chart"
   ]
  },
  {
   "cell_type": "code",
   "execution_count": null,
   "metadata": {},
   "outputs": [],
   "source": [
    "# Calculate mean sulphates for each Likert scale category\n",
    "mean_sulphates_by_likert = df.groupby('likert_scale')['sulphates'].mean().reset_index()\n",
    "\n",
    "sns.barplot(data=mean_sulphates_by_likert, x='likert_scale', y='sulphates')\n",
    "plt.title('Average Sulphates Content by Wine Quality Category')\n",
    "plt.xlabel('Quality Category')\n",
    "plt.ylabel('Average Sulphates Content')\n",
    "plt.xticks(rotation=45)\n",
    "plt.show()\n"
   ]
  },
  {
   "cell_type": "markdown",
   "metadata": {},
   "source": [
    "### Subsection 4: Impact of Acidity on Wine Quality\r\n",
    "Goal:    \r\n",
    "To explore how different levels of acidity (fixed acidity, volatile acidity, and citric acid) impact wine quality.\r\n",
    "\r\n",
    "Chart Ty     pe:\r\n",
    "Pair Plot"
   ]
  },
  {
   "cell_type": "code",
   "execution_count": null,
   "metadata": {},
   "outputs": [],
   "source": [
    "# Select a subset of columns for simplicity\n",
    "columns_to_plot = ['fixed_acidity', 'volatile_acidity', 'citric_acid', 'quality']\n",
    "subset_df = df[columns_to_plot]\n",
    "\n",
    "# Convert 'quality' into a categorical column for coloring\n",
    "subset_df['quality_category'] = pd.cut(subset_df['quality'], bins=[2, 4, 6, 8, 10], labels=['Low', 'Medium', 'High', 'Very High'], include_lowest=True)\n",
    "\n",
    "sns.pairplot(subset_df, hue='quality_category', vars=['fixed_acidity', 'volatile_acidity', 'citric_acid'])\n",
    "plt.suptitle('Impact of Acidity on Wine Quality', y=1.02)\n",
    "plt.show()\n"
   ]
  }
 ],
 "metadata": {
  "kernelspec": {
   "display_name": "Python 3 (ipykernel)",
   "language": "python",
   "name": "python3"
  },
  "language_info": {
   "codemirror_mode": {
    "name": "ipython",
    "version": 3
   },
   "file_extension": ".py",
   "mimetype": "text/x-python",
   "name": "python",
   "nbconvert_exporter": "python",
   "pygments_lexer": "ipython3",
   "version": "3.12.1"
  }
 },
 "nbformat": 4,
 "nbformat_minor": 4
}
